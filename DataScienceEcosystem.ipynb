{
 "cells": [
  {
   "cell_type": "markdown",
   "id": "08a7657e-2afe-4b85-ac38-0b89091926c5",
   "metadata": {
    "tags": []
   },
   "source": [
    "# Data Science Tools and Ecosystem "
   ]
  },
  {
   "cell_type": "markdown",
   "id": "c64b53f7-98d2-42b8-b412-c5d0a277d60f",
   "metadata": {},
   "source": [
    "My notebook is all about the basics of data science and the ecosystem."
   ]
  },
  {
   "cell_type": "markdown",
   "id": "d62e91fd-94b9-40a7-8094-0a5bd7642d7f",
   "metadata": {},
   "source": [
    "__Objectives:__\n",
    "- Explain popular lanuages in Data Science\n",
    "- Explain commonly used libraries in Data Science\n",
    "- Explain common data science tools\n",
    "- Explain how to evaluate arithmetic expressions in Python"
   ]
  },
  {
   "cell_type": "markdown",
   "id": "7dd8e7e1-abd2-46f5-9bc7-ddbe9d483532",
   "metadata": {},
   "source": [
    "Here is a list of some of the popular languages that Data Scientists use:\n",
    "1. Python\n",
    "2. R\n",
    "3. Julia\n",
    "4. SQL"
   ]
  },
  {
   "cell_type": "markdown",
   "id": "254c7639-4b66-4664-9592-4e3cb86eab26",
   "metadata": {},
   "source": [
    "Here is a list of some of the commonly used libraries by Data Scientists:\n",
    "1. Pandas\n",
    "2. SciPy\n",
    "3. Matplotlib\n",
    "4. NumPy"
   ]
  },
  {
   "cell_type": "markdown",
   "id": "4761f117-4694-4f27-8721-41941ac098f3",
   "metadata": {},
   "source": [
    "| Data Science Tools |\n",
    "| ------------------ |\n",
    "|Pytorch|\n",
    "|Visual Studio Code|\n",
    "|JupyterLab|"
   ]
  },
  {
   "cell_type": "markdown",
   "id": "9e32deb4-807b-4a4b-8ddc-677b38f7006e",
   "metadata": {},
   "source": [
    "### Below are some examples that show evaluating arithmetic expressions, in Python"
   ]
  },
  {
   "cell_type": "code",
   "execution_count": 1,
   "id": "49814d25-d91f-423a-9c58-1cb2128d00d2",
   "metadata": {
    "tags": []
   },
   "outputs": [
    {
     "data": {
      "text/plain": [
       "17"
      ]
     },
     "execution_count": 1,
     "metadata": {},
     "output_type": "execute_result"
    }
   ],
   "source": [
    "# This a simple arithmetic expression to mutiply then add integers\n",
    "(3*4)+5"
   ]
  },
  {
   "cell_type": "code",
   "execution_count": 2,
   "id": "9c2de8ba-7e2c-44f8-ba1e-5206d45a3fa0",
   "metadata": {
    "tags": []
   },
   "outputs": [
    {
     "data": {
      "text/plain": [
       "3.3333333333333335"
      ]
     },
     "execution_count": 2,
     "metadata": {},
     "output_type": "execute_result"
    }
   ],
   "source": [
    "# This will convert 200 minutes to hours by diving by 60\n",
    "200 / 60"
   ]
  },
  {
   "cell_type": "markdown",
   "id": "4e22bb3b-9a21-4587-ab0b-1c4b91ee648a",
   "metadata": {},
   "source": [
    "## Author\n",
    "Maisie Burroughs"
   ]
  }
 ],
 "metadata": {
  "kernelspec": {
   "display_name": "Python",
   "language": "python",
   "name": "conda-env-python-py"
  },
  "language_info": {
   "codemirror_mode": {
    "name": "ipython",
    "version": 3
   },
   "file_extension": ".py",
   "mimetype": "text/x-python",
   "name": "python",
   "nbconvert_exporter": "python",
   "pygments_lexer": "ipython3",
   "version": "3.7.12"
  }
 },
 "nbformat": 4,
 "nbformat_minor": 5
}
